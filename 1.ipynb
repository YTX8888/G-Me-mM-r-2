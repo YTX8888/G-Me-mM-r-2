{
  "nbformat": 4,
  "nbformat_minor": 0,
  "metadata": {
    "colab": {
      "provenance": []
    },
    "kernelspec": {
      "name": "python3",
      "display_name": "Python 3"
    },
    "language_info": {
      "name": "python"
    }
  },
  "cells": [
    {
      "cell_type": "code",
      "source": [
        "''''\n",
        "G*Me*mM / r**2\n",
        "\n",
        "G = 6.67 * 10**-11     ,   Me = 6*10**24   ,  mM = 7.34 * 10**22  ,   r = 3.84 * 10**8\n",
        "'''\n",
        "G= float(input(\"enter G:\"))\n",
        "\n",
        "Me= int(input(\"enter Me:\"))\n",
        "\n",
        "mM= float(input(\"enter mM:\"))\n",
        "\n",
        "r= float(input(\"enter r:\"))\n",
        "\n",
        "G=G*(10*8-11)\n",
        "Me=Me*(10**24)\n",
        "mM=mM*(10**22)\n",
        "r=r*(10**8)\n",
        "\n",
        "Fg= (G*Me*mM)/(r**2)\n",
        "\n",
        "print(\"result = {}\".format(Fg))\n",
        "\n",
        "\n",
        "\n"
      ],
      "metadata": {
        "id": "kfDCMZqvyv5V"
      },
      "execution_count": null,
      "outputs": []
    },
    {
      "cell_type": "code",
      "source": [],
      "metadata": {
        "id": "gouamtDs00hy"
      },
      "execution_count": null,
      "outputs": []
    }
  ]
}